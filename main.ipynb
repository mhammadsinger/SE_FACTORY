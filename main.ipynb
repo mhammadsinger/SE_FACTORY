{
 "cells": [
  {
   "cell_type": "code",
   "execution_count": 1,
   "metadata": {},
   "outputs": [
    {
     "data": {
      "text/plain": [
       "<connection object at 0x0000023AE57C9470; dsn: 'user=postgres password=xxx dbname=dvd_rental host=localhost port=5432', closed: 0>"
      ]
     },
     "execution_count": 1,
     "metadata": {},
     "output_type": "execute_result"
    }
   ],
   "source": [
    "from db_handler import create_connection,return_query_as_df,execute_query,schema_info,drop_nulls\n",
    "from lookups import ErrorHandling,InputTypes\n",
    "\n",
    "db_session = create_connection(\"dvd_rental\",\"postgres\",\"12345\",\"localhost\",5432)\n",
    "db_session"
   ]
  },
  {
   "cell_type": "code",
   "execution_count": 2,
   "metadata": {},
   "outputs": [
    {
     "name": "stdout",
     "output_type": "stream",
     "text": [
      "DB could not connect=connection to server at \"localhost\" (::1), port 5432 failed: FATAL:  password authentication failed for user \"postgres\"\n",
      "\n"
     ]
    },
    {
     "data": {
      "text/plain": [
       "'create_connection funtion returned nothing'"
      ]
     },
     "execution_count": 2,
     "metadata": {},
     "output_type": "execute_result"
    }
   ],
   "source": [
    "create_connection(\"dvd_rental\",\"postgres\",\"123456\",\"localhost\",5432)"
   ]
  },
  {
   "cell_type": "code",
   "execution_count": 3,
   "metadata": {},
   "outputs": [
    {
     "name": "stderr",
     "output_type": "stream",
     "text": [
      "c:\\Users\\User\\Desktop\\vs_etl\\My_ETL_Project_3\\db_handler.py:28: UserWarning: pandas only supports SQLAlchemy connectable (engine/connection) or database string URI or sqlite3 DBAPI2 connection. Other DBAPI2 objects are not tested. Please consider using SQLAlchemy.\n",
      "  query_df = pd.read_sql_query(sql= query, con=db_session)\n"
     ]
    },
    {
     "data": {
      "text/html": [
       "<div>\n",
       "<style scoped>\n",
       "    .dataframe tbody tr th:only-of-type {\n",
       "        vertical-align: middle;\n",
       "    }\n",
       "\n",
       "    .dataframe tbody tr th {\n",
       "        vertical-align: top;\n",
       "    }\n",
       "\n",
       "    .dataframe thead th {\n",
       "        text-align: right;\n",
       "    }\n",
       "</style>\n",
       "<table border=\"1\" class=\"dataframe\">\n",
       "  <thead>\n",
       "    <tr style=\"text-align: right;\">\n",
       "      <th></th>\n",
       "      <th>rental_id</th>\n",
       "      <th>rental_date</th>\n",
       "      <th>inventory_id</th>\n",
       "      <th>customer_id</th>\n",
       "      <th>return_date</th>\n",
       "      <th>staff_id</th>\n",
       "      <th>last_update</th>\n",
       "    </tr>\n",
       "  </thead>\n",
       "  <tbody>\n",
       "    <tr>\n",
       "      <th>0</th>\n",
       "      <td>2</td>\n",
       "      <td>2005-05-24 22:54:33</td>\n",
       "      <td>1525</td>\n",
       "      <td>459</td>\n",
       "      <td>2005-05-28 19:40:33</td>\n",
       "      <td>1</td>\n",
       "      <td>2006-02-16 02:30:53</td>\n",
       "    </tr>\n",
       "    <tr>\n",
       "      <th>1</th>\n",
       "      <td>3</td>\n",
       "      <td>2005-05-24 23:03:39</td>\n",
       "      <td>1711</td>\n",
       "      <td>408</td>\n",
       "      <td>2005-06-01 22:12:39</td>\n",
       "      <td>1</td>\n",
       "      <td>2006-02-16 02:30:53</td>\n",
       "    </tr>\n",
       "    <tr>\n",
       "      <th>2</th>\n",
       "      <td>4</td>\n",
       "      <td>2005-05-24 23:04:41</td>\n",
       "      <td>2452</td>\n",
       "      <td>333</td>\n",
       "      <td>2005-06-03 01:43:41</td>\n",
       "      <td>2</td>\n",
       "      <td>2006-02-16 02:30:53</td>\n",
       "    </tr>\n",
       "    <tr>\n",
       "      <th>3</th>\n",
       "      <td>5</td>\n",
       "      <td>2005-05-24 23:05:21</td>\n",
       "      <td>2079</td>\n",
       "      <td>222</td>\n",
       "      <td>2005-06-02 04:33:21</td>\n",
       "      <td>1</td>\n",
       "      <td>2006-02-16 02:30:53</td>\n",
       "    </tr>\n",
       "    <tr>\n",
       "      <th>4</th>\n",
       "      <td>6</td>\n",
       "      <td>2005-05-24 23:08:07</td>\n",
       "      <td>2792</td>\n",
       "      <td>549</td>\n",
       "      <td>2005-05-27 01:32:07</td>\n",
       "      <td>1</td>\n",
       "      <td>2006-02-16 02:30:53</td>\n",
       "    </tr>\n",
       "    <tr>\n",
       "      <th>...</th>\n",
       "      <td>...</td>\n",
       "      <td>...</td>\n",
       "      <td>...</td>\n",
       "      <td>...</td>\n",
       "      <td>...</td>\n",
       "      <td>...</td>\n",
       "      <td>...</td>\n",
       "    </tr>\n",
       "    <tr>\n",
       "      <th>16039</th>\n",
       "      <td>16046</td>\n",
       "      <td>2005-08-23 22:26:47</td>\n",
       "      <td>4364</td>\n",
       "      <td>74</td>\n",
       "      <td>2005-08-27 18:02:47</td>\n",
       "      <td>2</td>\n",
       "      <td>2006-02-16 02:30:53</td>\n",
       "    </tr>\n",
       "    <tr>\n",
       "      <th>16040</th>\n",
       "      <td>16047</td>\n",
       "      <td>2005-08-23 22:42:48</td>\n",
       "      <td>2088</td>\n",
       "      <td>114</td>\n",
       "      <td>2005-08-25 02:48:48</td>\n",
       "      <td>2</td>\n",
       "      <td>2006-02-16 02:30:53</td>\n",
       "    </tr>\n",
       "    <tr>\n",
       "      <th>16041</th>\n",
       "      <td>16048</td>\n",
       "      <td>2005-08-23 22:43:07</td>\n",
       "      <td>2019</td>\n",
       "      <td>103</td>\n",
       "      <td>2005-08-31 21:33:07</td>\n",
       "      <td>1</td>\n",
       "      <td>2006-02-16 02:30:53</td>\n",
       "    </tr>\n",
       "    <tr>\n",
       "      <th>16042</th>\n",
       "      <td>16049</td>\n",
       "      <td>2005-08-23 22:50:12</td>\n",
       "      <td>2666</td>\n",
       "      <td>393</td>\n",
       "      <td>2005-08-30 01:01:12</td>\n",
       "      <td>2</td>\n",
       "      <td>2006-02-16 02:30:53</td>\n",
       "    </tr>\n",
       "    <tr>\n",
       "      <th>16043</th>\n",
       "      <td>1</td>\n",
       "      <td>2005-05-24 22:53:30</td>\n",
       "      <td>367</td>\n",
       "      <td>130</td>\n",
       "      <td>2005-05-26 22:04:30</td>\n",
       "      <td>1</td>\n",
       "      <td>2006-02-15 21:30:53</td>\n",
       "    </tr>\n",
       "  </tbody>\n",
       "</table>\n",
       "<p>16044 rows × 7 columns</p>\n",
       "</div>"
      ],
      "text/plain": [
       "       rental_id         rental_date  inventory_id  customer_id  \\\n",
       "0              2 2005-05-24 22:54:33          1525          459   \n",
       "1              3 2005-05-24 23:03:39          1711          408   \n",
       "2              4 2005-05-24 23:04:41          2452          333   \n",
       "3              5 2005-05-24 23:05:21          2079          222   \n",
       "4              6 2005-05-24 23:08:07          2792          549   \n",
       "...          ...                 ...           ...          ...   \n",
       "16039      16046 2005-08-23 22:26:47          4364           74   \n",
       "16040      16047 2005-08-23 22:42:48          2088          114   \n",
       "16041      16048 2005-08-23 22:43:07          2019          103   \n",
       "16042      16049 2005-08-23 22:50:12          2666          393   \n",
       "16043          1 2005-05-24 22:53:30           367          130   \n",
       "\n",
       "              return_date  staff_id         last_update  \n",
       "0     2005-05-28 19:40:33         1 2006-02-16 02:30:53  \n",
       "1     2005-06-01 22:12:39         1 2006-02-16 02:30:53  \n",
       "2     2005-06-03 01:43:41         2 2006-02-16 02:30:53  \n",
       "3     2005-06-02 04:33:21         1 2006-02-16 02:30:53  \n",
       "4     2005-05-27 01:32:07         1 2006-02-16 02:30:53  \n",
       "...                   ...       ...                 ...  \n",
       "16039 2005-08-27 18:02:47         2 2006-02-16 02:30:53  \n",
       "16040 2005-08-25 02:48:48         2 2006-02-16 02:30:53  \n",
       "16041 2005-08-31 21:33:07         1 2006-02-16 02:30:53  \n",
       "16042 2005-08-30 01:01:12         2 2006-02-16 02:30:53  \n",
       "16043 2005-05-26 22:04:30         1 2006-02-15 21:30:53  \n",
       "\n",
       "[16044 rows x 7 columns]"
      ]
     },
     "execution_count": 3,
     "metadata": {},
     "output_type": "execute_result"
    }
   ],
   "source": [
    "return_query_as_df(db_session,'select * from rental')"
   ]
  },
  {
   "cell_type": "code",
   "execution_count": 4,
   "metadata": {},
   "outputs": [
    {
     "name": "stdout",
     "output_type": "stream",
     "text": [
      "query could not be returned as dataframe=Execution failed on sql 'select * from ': syntax error at end of input\n",
      "LINE 1: select * from \n",
      "                      ^\n",
      "\n"
     ]
    },
    {
     "name": "stderr",
     "output_type": "stream",
     "text": [
      "c:\\Users\\User\\Desktop\\vs_etl\\My_ETL_Project_3\\db_handler.py:28: UserWarning: pandas only supports SQLAlchemy connectable (engine/connection) or database string URI or sqlite3 DBAPI2 connection. Other DBAPI2 objects are not tested. Please consider using SQLAlchemy.\n",
      "  query_df = pd.read_sql_query(sql= query, con=db_session)\n"
     ]
    }
   ],
   "source": [
    "return_query_as_df(db_session,'select * from ')"
   ]
  },
  {
   "cell_type": "code",
   "execution_count": 5,
   "metadata": {},
   "outputs": [
    {
     "name": "stdout",
     "output_type": "stream",
     "text": [
      "Execution error=syntax error at or near \"abcd\"\n",
      "LINE 1: abcd\n",
      "        ^\n",
      "\n"
     ]
    }
   ],
   "source": [
    "execute_query(db_session,'abcd')"
   ]
  },
  {
   "cell_type": "code",
   "execution_count": 7,
   "metadata": {},
   "outputs": [
    {
     "data": {
      "text/html": [
       "<div>\n",
       "<style scoped>\n",
       "    .dataframe tbody tr th:only-of-type {\n",
       "        vertical-align: middle;\n",
       "    }\n",
       "\n",
       "    .dataframe tbody tr th {\n",
       "        vertical-align: top;\n",
       "    }\n",
       "\n",
       "    .dataframe thead th {\n",
       "        text-align: right;\n",
       "    }\n",
       "</style>\n",
       "<table border=\"1\" class=\"dataframe\">\n",
       "  <thead>\n",
       "    <tr style=\"text-align: right;\">\n",
       "      <th></th>\n",
       "      <th>table_name</th>\n",
       "    </tr>\n",
       "  </thead>\n",
       "  <tbody>\n",
       "    <tr>\n",
       "      <th>0</th>\n",
       "      <td>actor</td>\n",
       "    </tr>\n",
       "    <tr>\n",
       "      <th>1</th>\n",
       "      <td>actor_info</td>\n",
       "    </tr>\n",
       "    <tr>\n",
       "      <th>2</th>\n",
       "      <td>customer_list</td>\n",
       "    </tr>\n",
       "    <tr>\n",
       "      <th>3</th>\n",
       "      <td>film_list</td>\n",
       "    </tr>\n",
       "    <tr>\n",
       "      <th>4</th>\n",
       "      <td>nicer_but_slower_film_list</td>\n",
       "    </tr>\n",
       "  </tbody>\n",
       "</table>\n",
       "</div>"
      ],
      "text/plain": [
       "                   table_name\n",
       "0                       actor\n",
       "1                  actor_info\n",
       "2               customer_list\n",
       "3                   film_list\n",
       "4  nicer_but_slower_film_list"
      ]
     },
     "execution_count": 7,
     "metadata": {},
     "output_type": "execute_result"
    }
   ],
   "source": [
    "\n",
    "schema_info(db_session,'public').head()"
   ]
  },
  {
   "cell_type": "code",
   "execution_count": 8,
   "metadata": {},
   "outputs": [
    {
     "name": "stdout",
     "output_type": "stream",
     "text": [
      "query could not be returned as dataframe=Using URI string without sqlalchemy installed.\n"
     ]
    }
   ],
   "source": [
    "schema_info('x','123')"
   ]
  },
  {
   "cell_type": "code",
   "execution_count": 9,
   "metadata": {},
   "outputs": [
    {
     "data": {
      "text/plain": [
       "<connection object at 0x0000023AE57CB9A0; dsn: 'user=postgres password=xxx dbname=dvd_rental host=localhost port=5432', closed: 0>"
      ]
     },
     "execution_count": 9,
     "metadata": {},
     "output_type": "execute_result"
    }
   ],
   "source": [
    "from db_handler import *\n",
    "from lookups import ErrorHandling,InputTypes\n",
    "\n",
    "db_session = create_connection(\"dvd_rental\",\"postgres\",\"12345\",\"localhost\",5432)\n",
    "db_session"
   ]
  },
  {
   "cell_type": "code",
   "execution_count": 10,
   "metadata": {},
   "outputs": [
    {
     "name": "stderr",
     "output_type": "stream",
     "text": [
      "c:\\Users\\User\\Desktop\\vs_etl\\My_ETL_Project_3\\db_handler.py:28: UserWarning: pandas only supports SQLAlchemy connectable (engine/connection) or database string URI or sqlite3 DBAPI2 connection. Other DBAPI2 objects are not tested. Please consider using SQLAlchemy.\n",
      "  query_df = pd.read_sql_query(sql= query, con=db_session)\n"
     ]
    },
    {
     "data": {
      "text/html": [
       "<div>\n",
       "<style scoped>\n",
       "    .dataframe tbody tr th:only-of-type {\n",
       "        vertical-align: middle;\n",
       "    }\n",
       "\n",
       "    .dataframe tbody tr th {\n",
       "        vertical-align: top;\n",
       "    }\n",
       "\n",
       "    .dataframe thead th {\n",
       "        text-align: right;\n",
       "    }\n",
       "</style>\n",
       "<table border=\"1\" class=\"dataframe\">\n",
       "  <thead>\n",
       "    <tr style=\"text-align: right;\">\n",
       "      <th></th>\n",
       "      <th>rental_id</th>\n",
       "      <th>rental_date</th>\n",
       "      <th>inventory_id</th>\n",
       "      <th>customer_id</th>\n",
       "      <th>return_date</th>\n",
       "      <th>staff_id</th>\n",
       "      <th>last_update</th>\n",
       "    </tr>\n",
       "  </thead>\n",
       "  <tbody>\n",
       "    <tr>\n",
       "      <th>0</th>\n",
       "      <td>2</td>\n",
       "      <td>2005-05-24 22:54:33</td>\n",
       "      <td>1525</td>\n",
       "      <td>459</td>\n",
       "      <td>2005-05-28 19:40:33</td>\n",
       "      <td>1</td>\n",
       "      <td>2006-02-16 02:30:53</td>\n",
       "    </tr>\n",
       "    <tr>\n",
       "      <th>1</th>\n",
       "      <td>3</td>\n",
       "      <td>2005-05-24 23:03:39</td>\n",
       "      <td>1711</td>\n",
       "      <td>408</td>\n",
       "      <td>2005-06-01 22:12:39</td>\n",
       "      <td>1</td>\n",
       "      <td>2006-02-16 02:30:53</td>\n",
       "    </tr>\n",
       "    <tr>\n",
       "      <th>2</th>\n",
       "      <td>4</td>\n",
       "      <td>2005-05-24 23:04:41</td>\n",
       "      <td>2452</td>\n",
       "      <td>333</td>\n",
       "      <td>2005-06-03 01:43:41</td>\n",
       "      <td>2</td>\n",
       "      <td>2006-02-16 02:30:53</td>\n",
       "    </tr>\n",
       "    <tr>\n",
       "      <th>3</th>\n",
       "      <td>5</td>\n",
       "      <td>2005-05-24 23:05:21</td>\n",
       "      <td>2079</td>\n",
       "      <td>222</td>\n",
       "      <td>2005-06-02 04:33:21</td>\n",
       "      <td>1</td>\n",
       "      <td>2006-02-16 02:30:53</td>\n",
       "    </tr>\n",
       "    <tr>\n",
       "      <th>4</th>\n",
       "      <td>6</td>\n",
       "      <td>2005-05-24 23:08:07</td>\n",
       "      <td>2792</td>\n",
       "      <td>549</td>\n",
       "      <td>2005-05-27 01:32:07</td>\n",
       "      <td>1</td>\n",
       "      <td>2006-02-16 02:30:53</td>\n",
       "    </tr>\n",
       "  </tbody>\n",
       "</table>\n",
       "</div>"
      ],
      "text/plain": [
       "   rental_id         rental_date  inventory_id  customer_id  \\\n",
       "0          2 2005-05-24 22:54:33          1525          459   \n",
       "1          3 2005-05-24 23:03:39          1711          408   \n",
       "2          4 2005-05-24 23:04:41          2452          333   \n",
       "3          5 2005-05-24 23:05:21          2079          222   \n",
       "4          6 2005-05-24 23:08:07          2792          549   \n",
       "\n",
       "          return_date  staff_id         last_update  \n",
       "0 2005-05-28 19:40:33         1 2006-02-16 02:30:53  \n",
       "1 2005-06-01 22:12:39         1 2006-02-16 02:30:53  \n",
       "2 2005-06-03 01:43:41         2 2006-02-16 02:30:53  \n",
       "3 2005-06-02 04:33:21         1 2006-02-16 02:30:53  \n",
       "4 2005-05-27 01:32:07         1 2006-02-16 02:30:53  "
      ]
     },
     "execution_count": 10,
     "metadata": {},
     "output_type": "execute_result"
    }
   ],
   "source": [
    "drop_nulls(db_session,'select * from rental','SQL').head()\n"
   ]
  },
  {
   "cell_type": "code",
   "execution_count": 11,
   "metadata": {},
   "outputs": [
    {
     "name": "stdout",
     "output_type": "stream",
     "text": [
      "Error returning CSV=Invalid file path or buffer object type: <class 'psycopg2.extensions.connection'>\n"
     ]
    },
    {
     "name": "stderr",
     "output_type": "stream",
     "text": [
      "c:\\Users\\User\\Desktop\\vs_etl\\My_ETL_Project_3\\db_handler.py:72: FutureWarning: In a future version of pandas all arguments of read_csv except for the argument 'filepath_or_buffer' will be keyword-only.\n",
      "  df=pd.read_csv(db_session,data)\n",
      "c:\\Users\\User\\Desktop\\vs_etl\\My_ETL_Project_3\\db_handler.py:72: ParserWarning: Falling back to the 'python' engine because the 'c' engine does not support regex separators (separators > 1 char and different from '\\s+' are interpreted as regex); you can avoid this warning by specifying engine='python'.\n",
      "  df=pd.read_csv(db_session,data)\n"
     ]
    }
   ],
   "source": [
    "drop_nulls(db_session,'select * from ','CSV')\n"
   ]
  },
  {
   "cell_type": "markdown",
   "metadata": {},
   "source": [
    "why"
   ]
  },
  {
   "cell_type": "code",
   "execution_count": 12,
   "metadata": {},
   "outputs": [],
   "source": [
    "drop_nulls(db_session,'a ','b')\n"
   ]
  },
  {
   "cell_type": "code",
   "execution_count": 13,
   "metadata": {},
   "outputs": [
    {
     "name": "stderr",
     "output_type": "stream",
     "text": [
      "c:\\Users\\User\\Desktop\\vs_etl\\My_ETL_Project_3\\db_handler.py:28: UserWarning: pandas only supports SQLAlchemy connectable (engine/connection) or database string URI or sqlite3 DBAPI2 connection. Other DBAPI2 objects are not tested. Please consider using SQLAlchemy.\n",
      "  query_df = pd.read_sql_query(sql= query, con=db_session)\n"
     ]
    },
    {
     "data": {
      "text/plain": [
       "(16044, 7)"
      ]
     },
     "execution_count": 13,
     "metadata": {},
     "output_type": "execute_result"
    }
   ],
   "source": [
    "get_shape(db_session,'select * from rental','SQL')"
   ]
  },
  {
   "cell_type": "code",
   "execution_count": 14,
   "metadata": {},
   "outputs": [
    {
     "name": "stdout",
     "output_type": "stream",
     "text": [
      " Error finding CSV shape=Invalid file path or buffer object type: <class 'psycopg2.extensions.connection'>\n"
     ]
    },
    {
     "name": "stderr",
     "output_type": "stream",
     "text": [
      "c:\\Users\\User\\Desktop\\vs_etl\\My_ETL_Project_3\\db_handler.py:103: FutureWarning: In a future version of pandas all arguments of read_csv except for the argument 'filepath_or_buffer' will be keyword-only.\n",
      "  df=pd.read_csv(db_session,data)\n",
      "c:\\Users\\User\\Desktop\\vs_etl\\My_ETL_Project_3\\db_handler.py:103: ParserWarning: Falling back to the 'python' engine because the 'c' engine does not support regex separators (separators > 1 char and different from '\\s+' are interpreted as regex); you can avoid this warning by specifying engine='python'.\n",
      "  df=pd.read_csv(db_session,data)\n"
     ]
    }
   ],
   "source": [
    "get_shape(db_session,'select * from rental','CSV')"
   ]
  },
  {
   "cell_type": "code",
   "execution_count": 15,
   "metadata": {},
   "outputs": [
    {
     "name": "stderr",
     "output_type": "stream",
     "text": [
      "c:\\Users\\User\\Desktop\\vs_etl\\My_ETL_Project_3\\db_handler.py:28: UserWarning: pandas only supports SQLAlchemy connectable (engine/connection) or database string URI or sqlite3 DBAPI2 connection. Other DBAPI2 objects are not tested. Please consider using SQLAlchemy.\n",
      "  query_df = pd.read_sql_query(sql= query, con=db_session)\n"
     ]
    },
    {
     "data": {
      "text/html": [
       "<div>\n",
       "<style scoped>\n",
       "    .dataframe tbody tr th:only-of-type {\n",
       "        vertical-align: middle;\n",
       "    }\n",
       "\n",
       "    .dataframe tbody tr th {\n",
       "        vertical-align: top;\n",
       "    }\n",
       "\n",
       "    .dataframe thead th {\n",
       "        text-align: right;\n",
       "    }\n",
       "</style>\n",
       "<table border=\"1\" class=\"dataframe\">\n",
       "  <thead>\n",
       "    <tr style=\"text-align: right;\">\n",
       "      <th></th>\n",
       "      <th>rental_id</th>\n",
       "      <th>rental_date</th>\n",
       "      <th>inventory_id</th>\n",
       "      <th>customer_id</th>\n",
       "      <th>return_date</th>\n",
       "      <th>staff_id</th>\n",
       "      <th>last_update</th>\n",
       "    </tr>\n",
       "  </thead>\n",
       "  <tbody>\n",
       "    <tr>\n",
       "      <th>0</th>\n",
       "      <td>2</td>\n",
       "      <td>2005-05-24 22:54:33</td>\n",
       "      <td>1525</td>\n",
       "      <td>459</td>\n",
       "      <td>2005-05-28 19:40:33</td>\n",
       "      <td>1</td>\n",
       "      <td>2006-02-16 02:30:53</td>\n",
       "    </tr>\n",
       "    <tr>\n",
       "      <th>1</th>\n",
       "      <td>3</td>\n",
       "      <td>2005-05-24 23:03:39</td>\n",
       "      <td>1711</td>\n",
       "      <td>408</td>\n",
       "      <td>2005-06-01 22:12:39</td>\n",
       "      <td>1</td>\n",
       "      <td>2006-02-16 02:30:53</td>\n",
       "    </tr>\n",
       "    <tr>\n",
       "      <th>2</th>\n",
       "      <td>4</td>\n",
       "      <td>2005-05-24 23:04:41</td>\n",
       "      <td>2452</td>\n",
       "      <td>333</td>\n",
       "      <td>2005-06-03 01:43:41</td>\n",
       "      <td>2</td>\n",
       "      <td>2006-02-16 02:30:53</td>\n",
       "    </tr>\n",
       "    <tr>\n",
       "      <th>3</th>\n",
       "      <td>5</td>\n",
       "      <td>2005-05-24 23:05:21</td>\n",
       "      <td>2079</td>\n",
       "      <td>222</td>\n",
       "      <td>2005-06-02 04:33:21</td>\n",
       "      <td>1</td>\n",
       "      <td>2006-02-16 02:30:53</td>\n",
       "    </tr>\n",
       "    <tr>\n",
       "      <th>4</th>\n",
       "      <td>6</td>\n",
       "      <td>2005-05-24 23:08:07</td>\n",
       "      <td>2792</td>\n",
       "      <td>549</td>\n",
       "      <td>2005-05-27 01:32:07</td>\n",
       "      <td>1</td>\n",
       "      <td>2006-02-16 02:30:53</td>\n",
       "    </tr>\n",
       "    <tr>\n",
       "      <th>...</th>\n",
       "      <td>...</td>\n",
       "      <td>...</td>\n",
       "      <td>...</td>\n",
       "      <td>...</td>\n",
       "      <td>...</td>\n",
       "      <td>...</td>\n",
       "      <td>...</td>\n",
       "    </tr>\n",
       "    <tr>\n",
       "      <th>16039</th>\n",
       "      <td>16046</td>\n",
       "      <td>2005-08-23 22:26:47</td>\n",
       "      <td>4364</td>\n",
       "      <td>74</td>\n",
       "      <td>2005-08-27 18:02:47</td>\n",
       "      <td>2</td>\n",
       "      <td>2006-02-16 02:30:53</td>\n",
       "    </tr>\n",
       "    <tr>\n",
       "      <th>16040</th>\n",
       "      <td>16047</td>\n",
       "      <td>2005-08-23 22:42:48</td>\n",
       "      <td>2088</td>\n",
       "      <td>114</td>\n",
       "      <td>2005-08-25 02:48:48</td>\n",
       "      <td>2</td>\n",
       "      <td>2006-02-16 02:30:53</td>\n",
       "    </tr>\n",
       "    <tr>\n",
       "      <th>16041</th>\n",
       "      <td>16048</td>\n",
       "      <td>2005-08-23 22:43:07</td>\n",
       "      <td>2019</td>\n",
       "      <td>103</td>\n",
       "      <td>2005-08-31 21:33:07</td>\n",
       "      <td>1</td>\n",
       "      <td>2006-02-16 02:30:53</td>\n",
       "    </tr>\n",
       "    <tr>\n",
       "      <th>16042</th>\n",
       "      <td>16049</td>\n",
       "      <td>2005-08-23 22:50:12</td>\n",
       "      <td>2666</td>\n",
       "      <td>393</td>\n",
       "      <td>2005-08-30 01:01:12</td>\n",
       "      <td>2</td>\n",
       "      <td>2006-02-16 02:30:53</td>\n",
       "    </tr>\n",
       "    <tr>\n",
       "      <th>16043</th>\n",
       "      <td>1</td>\n",
       "      <td>2005-05-24 22:53:30</td>\n",
       "      <td>367</td>\n",
       "      <td>130</td>\n",
       "      <td>2005-05-26 22:04:30</td>\n",
       "      <td>1</td>\n",
       "      <td>2006-02-15 21:30:53</td>\n",
       "    </tr>\n",
       "  </tbody>\n",
       "</table>\n",
       "<p>16044 rows × 7 columns</p>\n",
       "</div>"
      ],
      "text/plain": [
       "       rental_id         rental_date  inventory_id  customer_id  \\\n",
       "0              2 2005-05-24 22:54:33          1525          459   \n",
       "1              3 2005-05-24 23:03:39          1711          408   \n",
       "2              4 2005-05-24 23:04:41          2452          333   \n",
       "3              5 2005-05-24 23:05:21          2079          222   \n",
       "4              6 2005-05-24 23:08:07          2792          549   \n",
       "...          ...                 ...           ...          ...   \n",
       "16039      16046 2005-08-23 22:26:47          4364           74   \n",
       "16040      16047 2005-08-23 22:42:48          2088          114   \n",
       "16041      16048 2005-08-23 22:43:07          2019          103   \n",
       "16042      16049 2005-08-23 22:50:12          2666          393   \n",
       "16043          1 2005-05-24 22:53:30           367          130   \n",
       "\n",
       "              return_date  staff_id         last_update  \n",
       "0     2005-05-28 19:40:33         1 2006-02-16 02:30:53  \n",
       "1     2005-06-01 22:12:39         1 2006-02-16 02:30:53  \n",
       "2     2005-06-03 01:43:41         2 2006-02-16 02:30:53  \n",
       "3     2005-06-02 04:33:21         1 2006-02-16 02:30:53  \n",
       "4     2005-05-27 01:32:07         1 2006-02-16 02:30:53  \n",
       "...                   ...       ...                 ...  \n",
       "16039 2005-08-27 18:02:47         2 2006-02-16 02:30:53  \n",
       "16040 2005-08-25 02:48:48         2 2006-02-16 02:30:53  \n",
       "16041 2005-08-31 21:33:07         1 2006-02-16 02:30:53  \n",
       "16042 2005-08-30 01:01:12         2 2006-02-16 02:30:53  \n",
       "16043 2005-05-26 22:04:30         1 2006-02-15 21:30:53  \n",
       "\n",
       "[16044 rows x 7 columns]"
      ]
     },
     "execution_count": 15,
     "metadata": {},
     "output_type": "execute_result"
    }
   ],
   "source": [
    "drop_duplicates(db_session,'select * from rental','SQL')"
   ]
  },
  {
   "cell_type": "code",
   "execution_count": 16,
   "metadata": {},
   "outputs": [
    {
     "name": "stdout",
     "output_type": "stream",
     "text": [
      "Error droping duplicates from csv file=Invalid file path or buffer object type: <class 'psycopg2.extensions.connection'>\n"
     ]
    },
    {
     "name": "stderr",
     "output_type": "stream",
     "text": [
      "c:\\Users\\User\\Desktop\\vs_etl\\My_ETL_Project_3\\db_handler.py:135: FutureWarning: In a future version of pandas all arguments of read_csv except for the argument 'filepath_or_buffer' will be keyword-only.\n",
      "  df=pd.read_csv(db_session,data)\n",
      "c:\\Users\\User\\Desktop\\vs_etl\\My_ETL_Project_3\\db_handler.py:135: ParserWarning: Falling back to the 'python' engine because the 'c' engine does not support regex separators (separators > 1 char and different from '\\s+' are interpreted as regex); you can avoid this warning by specifying engine='python'.\n",
      "  df=pd.read_csv(db_session,data)\n"
     ]
    }
   ],
   "source": [
    "drop_duplicates(db_session,'select * from rental','CSV')"
   ]
  },
  {
   "cell_type": "code",
   "execution_count": 17,
   "metadata": {},
   "outputs": [
    {
     "name": "stderr",
     "output_type": "stream",
     "text": [
      "c:\\Users\\User\\Desktop\\vs_etl\\My_ETL_Project_3\\db_handler.py:28: UserWarning: pandas only supports SQLAlchemy connectable (engine/connection) or database string URI or sqlite3 DBAPI2 connection. Other DBAPI2 objects are not tested. Please consider using SQLAlchemy.\n",
      "  query_df = pd.read_sql_query(sql= query, con=db_session)\n"
     ]
    },
    {
     "data": {
      "text/plain": [
       "16044"
      ]
     },
     "execution_count": 17,
     "metadata": {},
     "output_type": "execute_result"
    }
   ],
   "source": [
    "get_length(db_session,'select * from rental','SQL')"
   ]
  },
  {
   "cell_type": "code",
   "execution_count": 18,
   "metadata": {},
   "outputs": [
    {
     "name": "stdout",
     "output_type": "stream",
     "text": [
      " Error finding CSV length=Invalid file path or buffer object type: <class 'psycopg2.extensions.connection'>\n"
     ]
    },
    {
     "name": "stderr",
     "output_type": "stream",
     "text": [
      "c:\\Users\\User\\Desktop\\vs_etl\\My_ETL_Project_3\\db_handler.py:168: FutureWarning: In a future version of pandas all arguments of read_csv except for the argument 'filepath_or_buffer' will be keyword-only.\n",
      "  df=pd.read_csv(db_session,data)\n",
      "c:\\Users\\User\\Desktop\\vs_etl\\My_ETL_Project_3\\db_handler.py:168: ParserWarning: Falling back to the 'python' engine because the 'c' engine does not support regex separators (separators > 1 char and different from '\\s+' are interpreted as regex); you can avoid this warning by specifying engine='python'.\n",
      "  df=pd.read_csv(db_session,data)\n"
     ]
    }
   ],
   "source": [
    "get_length(db_session,'select ','CSV')"
   ]
  },
  {
   "cell_type": "code",
   "execution_count": 19,
   "metadata": {},
   "outputs": [
    {
     "data": {
      "text/plain": [
       "['payment_output.csv']"
      ]
     },
     "execution_count": 19,
     "metadata": {},
     "output_type": "execute_result"
    }
   ],
   "source": [
    "from folder_handler import find_csv\n",
    "directory = r'C:\\Users\\User\\Desktop\\vs_etl\\ETL_Project_2\\ETL_Project'\n",
    " \n",
    "\n",
    "find_csv(directory)\n"
   ]
  }
 ],
 "metadata": {
  "kernelspec": {
   "display_name": "pipeline_env",
   "language": "python",
   "name": "python3"
  },
  "language_info": {
   "codemirror_mode": {
    "name": "ipython",
    "version": 3
   },
   "file_extension": ".py",
   "mimetype": "text/x-python",
   "name": "python",
   "nbconvert_exporter": "python",
   "pygments_lexer": "ipython3",
   "version": "3.10.9"
  },
  "orig_nbformat": 4
 },
 "nbformat": 4,
 "nbformat_minor": 2
}
